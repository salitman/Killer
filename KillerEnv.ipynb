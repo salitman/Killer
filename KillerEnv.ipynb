{
 "cells": [
  {
   "cell_type": "code",
   "execution_count": 2,
   "metadata": {},
   "outputs": [],
   "source": [
    "import random as ra\n",
    "import numpy as np\n",
    "import math"
   ]
  },
  {
   "cell_type": "code",
   "execution_count": 3,
   "metadata": {},
   "outputs": [],
   "source": [
    "# Cards will be determined by the following numbers: 3 = 3, 4 = 4... J = 11, Q = 12, K = 13, A = 14, 2 = 15\n",
    "# Suits will be determined as follows: +0 => Spades, +0.25 => Clubs, +0.5 => Diamonds, +0.75 => Hearts\n",
    "\n",
    "fulldeck = [x*0.25 for x in range(12, 64)]\n",
    "ra.shuffle(fulldeck)\n",
    "\n",
    "def reset_deck():\n",
    "    global fulldeck\n",
    "    fulldeck = [x*0.25 for x in range(12, 64)]\n",
    "    fulldeck = ra.shuffle(fulldeck)\n",
    "    \n",
    "#print(fulldeck)"
   ]
  },
  {
   "cell_type": "code",
   "execution_count": 4,
   "metadata": {},
   "outputs": [],
   "source": [
    "# Returns the unicode number in decimal int of a card\n",
    "def card_to_picture(card):\n",
    "    if (card >= 14):\n",
    "        card = card-13\n",
    "    value = card/1\n",
    "    #print(value)\n",
    "    suit = 10+4*(card%1.0)\n",
    "    if suit == 11:\n",
    "        suit = 13\n",
    "    elif suit == 13:\n",
    "        suit = 11\n",
    "    #print(suit)\n",
    "    return int(int(\"1f000\",16)+16*suit+value)\n",
    "    \n",
    "#print(chr(card_to_picture(3)))"
   ]
  },
  {
   "cell_type": "code",
   "execution_count": 5,
   "metadata": {},
   "outputs": [],
   "source": [
    "# Returns the unicode representation of the hand\n",
    "def show_hand(hand0):\n",
    "    hand = []\n",
    "    for i in hand0:\n",
    "        hand += [card_to_picture(i)]\n",
    "    return hand"
   ]
  },
  {
   "cell_type": "code",
   "execution_count": 6,
   "metadata": {},
   "outputs": [],
   "source": [
    "# Deal hands\n",
    "p1 = fulldeck.copy()[0:13]\n",
    "p2 = fulldeck.copy()[14:27]\n",
    "p3 = fulldeck.copy()[27:40]\n",
    "p4 = fulldeck.copy()[40:52]"
   ]
  },
  {
   "cell_type": "code",
   "execution_count": 7,
   "metadata": {},
   "outputs": [],
   "source": [
    "# Rules are as follows: single = 0, pair = 1, triple = 2, three-straight = 3, four-straight = 4, five-straight = 5\n",
    "\n",
    "rule = ra.choice([0, 1, 2, 3, 4, 5])\n",
    "\n",
    "p1[3] = 3"
   ]
  },
  {
   "cell_type": "code",
   "execution_count": 8,
   "metadata": {},
   "outputs": [
    {
     "name": "stdout",
     "output_type": "stream",
     "text": [
      "[[3, 3.5], [3, 3.75], [3.5, 3.75], [5.0, 5.25], [5.0, 5.5], [5.25, 5.5]]\n",
      "[[3, 3.5], [3, 3.75], [3.5, 3.75], [5.0, 5.25], [5.0, 5.5], [5.25, 5.5]]\n"
     ]
    }
   ],
   "source": [
    "# Function that gets valid moves given a hand, rule, card-to-beat\n",
    "def get_moves(hand0, rule, topcard):\n",
    "    hand = hand0.copy()\n",
    "    hand.sort()\n",
    "    \n",
    "    #remove zeros\n",
    "    for i in range(len(hand)-1,-1,-1):\n",
    "        if hand[i] == 0:\n",
    "            hand.pop(i)\n",
    "    \n",
    "    values = hand.copy()\n",
    "    for i in range(len(values)):\n",
    "        values[i] = math.floor(values[i])\n",
    "    #print(values)\n",
    "    suits = hand.copy()\n",
    "    for i in range(len(suits)):\n",
    "        suits[i] = suits[i]%1.0\n",
    "    #print(suits)\n",
    "\n",
    "    singles = []\n",
    "    # get singles\n",
    "    for i in range(len(hand)):\n",
    "        if hand[i] != 0:\n",
    "            singles += [[hand[i]]]\n",
    "            \n",
    "    # get pairs\n",
    "    pairs = []\n",
    "    for i in range(len(values)):\n",
    "        for j in range(len(values)):\n",
    "            if values[i] == values[j] and i != j:\n",
    "                if [hand[i], hand[j]] in pairs:\n",
    "                    pairs.remove([hand[i], hand[j]])\n",
    "                pairs += [[hand[i], hand[j]]]\n",
    "    for i in pairs:\n",
    "        for j in pairs:\n",
    "            if sorted(i) == sorted(j) and i!=j:\n",
    "                pairs.remove(j)\n",
    "    #print(pairs)\n",
    "                \n",
    "    # get triples\n",
    "    triples = []\n",
    "    for i in range(len(values)):\n",
    "        for j in range(len(values)):\n",
    "            for k in range(len(values)):\n",
    "                if values[i] == values[j] == values[k] and i != j !=k and i!=k:\n",
    "                    triples += [[hand[i], hand[j], hand[k]]]\n",
    "    for i in triples:\n",
    "        for j in triples:\n",
    "            if sorted(i) == sorted(j) and i!=j: \n",
    "                triples.remove(j)\n",
    "    #print(triples)\n",
    "    \n",
    "    # get 3-straights\n",
    "    three_straights = []\n",
    "    for i in range(len(values)):\n",
    "        for j in range(len(values)):\n",
    "            for k in range(len(values)):\n",
    "                if values[k] == values[j]+1 and values[j] == values[i]+1:\n",
    "                    three_straights += [[hand[i], hand[j], hand[k]]]\n",
    "                    \n",
    "    # get 4-straights\n",
    "    four_straights = []\n",
    "    for i in range(len(values)):\n",
    "        for j in range(len(values)):\n",
    "            for k in range(len(values)):\n",
    "                for l in range(len(values)):\n",
    "                    if values[k] == values[j]+1 and values[j] == values[i]+1 and values[l] == values[k]+1:\n",
    "                        four_straights += [[hand[i], hand[j], hand[k], hand[l]]]\n",
    "                        \n",
    "    # get 5-straights\n",
    "    five_straights = []\n",
    "    for i in range(len(values)):\n",
    "        for j in range(len(values)):\n",
    "            for k in range(len(values)):\n",
    "                for l in range(len(values)):\n",
    "                    for m in range(len(values)):\n",
    "                        if values[k] == values[j]+1 and values[j] == values[i]+1 and values[l] == values[k]+1 and values[m] == values[l]+1:\n",
    "                            five_straights += [[hand[i], hand[j], hand[k], hand[l], hand[m]]]\n",
    "    \n",
    "    # add proper moves based on rule\n",
    "    moves = []\n",
    "    if rule == 0:\n",
    "        moves += singles\n",
    "    elif rule == 1:\n",
    "        moves += pairs\n",
    "    elif rule == 2:\n",
    "        moves += triples\n",
    "    elif rule == 3:\n",
    "        moves += three_straights\n",
    "    elif rule == 4:\n",
    "        moves += four_straights\n",
    "    else:\n",
    "        moves += five_straights\n",
    "    \n",
    "    #print(moves)\n",
    "    # remove moves below topcard\n",
    "    valid_moves = []\n",
    "    for i in moves:\n",
    "        if max(i) > float(topcard):\n",
    "            valid_moves += [i]\n",
    "    \n",
    "    return valid_moves"
   ]
  },
  {
   "cell_type": "code",
   "execution_count": 9,
   "metadata": {},
   "outputs": [
    {
     "name": "stdout",
     "output_type": "stream",
     "text": [
      "hi there, everyone!\n"
     ]
    }
   ],
   "source": [
    "import tkinter as tk\n",
    "\n",
    "class Application(tk.Frame):\n",
    "    def __init__(self, master=None):\n",
    "        super().__init__(master)\n",
    "        self.master = master\n",
    "        self.pack()\n",
    "        self.create_widgets()\n",
    "\n",
    "    def create_widgets(self):\n",
    "        self.hi_there = tk.Button(self)\n",
    "        self.hi_there[\"text\"] = \"Hello World\\n(click me)\"\n",
    "        self.hi_there[\"command\"] = self.say_hi\n",
    "        self.hi_there.pack(side=\"top\")\n",
    "\n",
    "        self.quit = tk.Button(self, text=\"QUIT\", fg=\"red\",\n",
    "                              command=self.master.destroy)\n",
    "        self.quit.pack(side=\"bottom\")\n",
    "\n",
    "    def say_hi(self):\n",
    "        print(\"hi there, everyone!\")\n",
    "\n",
    "root = tk.Tk()\n",
    "app = Application(master=root)\n",
    "app.mainloop()"
   ]
  },
  {
   "cell_type": "code",
   "execution_count": null,
   "metadata": {},
   "outputs": [],
   "source": []
  }
 ],
 "metadata": {
  "kernelspec": {
   "display_name": "Python 3",
   "language": "python",
   "name": "python3"
  },
  "language_info": {
   "codemirror_mode": {
    "name": "ipython",
    "version": 3
   },
   "file_extension": ".py",
   "mimetype": "text/x-python",
   "name": "python",
   "nbconvert_exporter": "python",
   "pygments_lexer": "ipython3",
   "version": "3.8.3"
  }
 },
 "nbformat": 4,
 "nbformat_minor": 4
}
